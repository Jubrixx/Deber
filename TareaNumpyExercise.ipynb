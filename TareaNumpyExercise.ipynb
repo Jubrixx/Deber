{
  "nbformat": 4,
  "nbformat_minor": 0,
  "metadata": {
    "colab": {
      "provenance": [],
      "include_colab_link": true
    },
    "kernelspec": {
      "name": "python3",
      "display_name": "Python 3"
    },
    "language_info": {
      "name": "python"
    }
  },
  "cells": [
    {
      "cell_type": "markdown",
      "metadata": {
        "id": "view-in-github",
        "colab_type": "text"
      },
      "source": [
        "<a href=\"https://colab.research.google.com/github/Jubrixx/Deber/blob/main/TareaNumpyExercise.ipynb\" target=\"_parent\"><img src=\"https://colab.research.google.com/assets/colab-badge.svg\" alt=\"Open In Colab\"/></a>"
      ]
    },
    {
      "cell_type": "markdown",
      "source": [
        "NumPy Exercises for Data Analysis"
      ],
      "metadata": {
        "id": "hSsi2_-klame"
      }
    },
    {
      "cell_type": "code",
      "source": [
        "# Import numpy as np and see the version\n",
        "\n",
        "# your code here\n",
        "import numpy as np\n",
        "\n",
        "pass"
      ],
      "metadata": {
        "id": "kuK4TNepldem"
      },
      "execution_count": null,
      "outputs": []
    },
    {
      "cell_type": "code",
      "source": [
        "# Create a 1D array of numbers from 0 to 9\n",
        "# your code here\n",
        "lista=list(range(9))\n",
        "print(lista)\n",
        "pass\n"
      ],
      "metadata": {
        "id": "hbYX-oMBlvS-",
        "colab": {
          "base_uri": "https://localhost:8080/"
        },
        "outputId": "9a4160d8-6ae8-41ff-d65d-3908cebe12f3"
      },
      "execution_count": null,
      "outputs": [
        {
          "output_type": "stream",
          "name": "stdout",
          "text": [
            "[0, 1, 2, 3, 4, 5, 6, 7, 8]\n"
          ]
        }
      ]
    },
    {
      "cell_type": "code",
      "source": [
        "# Create random vector of size 10 and replace the maximum value by 0\n",
        "vector = np.random.rand(10)\n",
        "vector[vector.argmax()] = 0\n",
        "print(vector)\n",
        "pass"
      ],
      "metadata": {
        "id": "HfsNmdvrwqsO",
        "colab": {
          "base_uri": "https://localhost:8080/"
        },
        "outputId": "59e8370e-02a4-4afc-9823-daa495059988"
      },
      "execution_count": null,
      "outputs": [
        {
          "output_type": "stream",
          "name": "stdout",
          "text": [
            "[0.80635854 0.26960209 0.98989888 0.83491957 0.0279989  0.4710947\n",
            " 0.77388857 0.33261296 0.         0.38239101]\n"
          ]
        }
      ]
    },
    {
      "cell_type": "code",
      "source": [
        "# Print the number 8 from the array below:\n",
        "arr = np.array([[1,2,3,4,5], [6,7,8,9,10]])\n",
        "print(arr[1, 2])\n",
        "pass"
      ],
      "metadata": {
        "id": "a9T-W3uUoqcE",
        "colab": {
          "base_uri": "https://localhost:8080/"
        },
        "outputId": "1f2d2ddf-b33f-4d41-92bc-43e413d2685f"
      },
      "execution_count": null,
      "outputs": [
        {
          "output_type": "stream",
          "name": "stdout",
          "text": [
            "8\n"
          ]
        }
      ]
    },
    {
      "cell_type": "code",
      "source": [
        "# Print the numbers [3, 4, 5] from the array below:\n",
        "arr = np.array([1,2,3,4,5,6,7])\n",
        "print(arr[2:5])\n",
        "pass"
      ],
      "metadata": {
        "id": "PqvPijs8o2ub",
        "colab": {
          "base_uri": "https://localhost:8080/"
        },
        "outputId": "abb196ec-439c-4d17-cb49-6624414e8cf3"
      },
      "execution_count": null,
      "outputs": [
        {
          "output_type": "stream",
          "name": "stdout",
          "text": [
            "[3 4 5]\n"
          ]
        }
      ]
    },
    {
      "cell_type": "code",
      "source": [
        "# Print the last 4 numbers from the array below:\n",
        "arr = np.array([1,2,3,4,5,6,7])\n",
        "print(arr[3:])\n",
        "pass"
      ],
      "metadata": {
        "id": "H5iUCizHpk0L",
        "colab": {
          "base_uri": "https://localhost:8080/"
        },
        "outputId": "0b7afe4f-c04d-4e38-f38b-1e170033eb22"
      },
      "execution_count": null,
      "outputs": [
        {
          "output_type": "stream",
          "name": "stdout",
          "text": [
            "[4 5 6 7]\n"
          ]
        }
      ]
    },
    {
      "cell_type": "code",
      "source": [
        "# Create a 3×3 numpy array of all True’s\n",
        "# your code here\n",
        "tmp=10*np.random.random((4,4))\n",
        "mask=tmp>0\n",
        "print(tmp)\n",
        "print('-----------------------------------------------')\n",
        "print(mask)\n",
        "pass"
      ],
      "metadata": {
        "id": "C9nBztXhl9NA",
        "colab": {
          "base_uri": "https://localhost:8080/"
        },
        "outputId": "9969c003-a681-4cca-c2b5-e223d1a5a605"
      },
      "execution_count": null,
      "outputs": [
        {
          "output_type": "stream",
          "name": "stdout",
          "text": [
            "[[8.63991255 3.55797926 2.00341537 7.87773143]\n",
            " [0.17552732 4.70003894 0.36240761 0.98370457]\n",
            " [9.60913682 4.14277972 4.90185562 7.96106744]\n",
            " [3.81524221 2.14289665 6.5422909  5.89288143]]\n",
            "-----------------------------------------------\n",
            "[[ True  True  True  True]\n",
            " [ True  True  True  True]\n",
            " [ True  True  True  True]\n",
            " [ True  True  True  True]]\n"
          ]
        }
      ]
    },
    {
      "cell_type": "code",
      "source": [
        "# Extract all odd numbers from arr\n",
        "# your code here\n",
        "tmp = np.random.randint(1, 11, size=(4, 4))\n",
        "print(tmp)\n",
        "print('---------------')\n",
        "mask = np.mod(tmp, 2) == 0\n",
        "print(tmp[mask])\n",
        "pass"
      ],
      "metadata": {
        "id": "W18lqbBwmIhw",
        "colab": {
          "base_uri": "https://localhost:8080/"
        },
        "outputId": "387169b5-bdcb-424c-afb1-3fba7273e2fe"
      },
      "execution_count": null,
      "outputs": [
        {
          "output_type": "stream",
          "name": "stdout",
          "text": [
            "[[ 9  5  1  1]\n",
            " [ 8  4  4  2]\n",
            " [ 6  7  5  9]\n",
            " [ 2 10  8  5]]\n",
            "---------------\n",
            "[ 8  4  4  2  6  2 10  8]\n"
          ]
        }
      ]
    },
    {
      "cell_type": "code",
      "source": [
        "# Create a vector with values ranging from 10 to 49 (★☆☆)\n",
        "tmp = np.arange(10,50)\n",
        "print(tmp)\n",
        "pass\n"
      ],
      "metadata": {
        "id": "hA9iXCAwr55v",
        "colab": {
          "base_uri": "https://localhost:8080/"
        },
        "outputId": "ab527b04-e55d-4dcf-a1ff-275be0c380ef"
      },
      "execution_count": null,
      "outputs": [
        {
          "output_type": "stream",
          "name": "stdout",
          "text": [
            "[10 11 12 13 14 15 16 17 18 19 20 21 22 23 24 25 26 27 28 29 30 31 32 33\n",
            " 34 35 36 37 38 39 40 41 42 43 44 45 46 47 48 49]\n"
          ]
        }
      ]
    },
    {
      "cell_type": "code",
      "source": [
        "# Reverse a vector (first element becomes last)\n",
        "vectorInvertido = tmp[::-1]\n",
        "print(vectorInvertido)\n",
        "pass"
      ],
      "metadata": {
        "id": "R-_IjeHyr83q",
        "colab": {
          "base_uri": "https://localhost:8080/"
        },
        "outputId": "7ae8d241-9f72-4aa6-a153-b16e25a3dcc3"
      },
      "execution_count": null,
      "outputs": [
        {
          "output_type": "stream",
          "name": "stdout",
          "text": [
            "[49 48 47 46 45 44 43 42 41 40 39 38 37 36 35 34 33 32 31 30 29 28 27 26\n",
            " 25 24 23 22 21 20 19 18 17 16 15 14 13 12 11 10]\n"
          ]
        }
      ]
    },
    {
      "cell_type": "code",
      "source": [
        "#  Create a 10x10 array with random integer values and find the minimum and maximum values\n",
        "tmp = np.random.randint(1, 101, size=(10, 10))\n",
        "minimo = np.min(tmp)\n",
        "maximo = np.max(tmp)\n",
        "print(\"Matriz\")\n",
        "print(tmp)\n",
        "print(\"Minimo\")\n",
        "print(minimo)\n",
        "print(\"Maximo\")\n",
        "print(maximo)\n",
        "pass"
      ],
      "metadata": {
        "id": "rEWwl_weuq3B",
        "colab": {
          "base_uri": "https://localhost:8080/"
        },
        "outputId": "4eef9583-7c48-4523-d102-7065b72f542f"
      },
      "execution_count": null,
      "outputs": [
        {
          "output_type": "stream",
          "name": "stdout",
          "text": [
            "Matriz\n",
            "[[ 50  89  55  70  64  53  53  95  78   6]\n",
            " [  2  22   1  59  91  27  93  53  18  32]\n",
            " [ 45  94  77  57  61  24  49  67  73  95]\n",
            " [ 86  39  90  36  59  44  36 100  76  30]\n",
            " [ 53  30  23  87  81  12  91  37  97  11]\n",
            " [  1  43  68  53  57  59  33  78  43  31]\n",
            " [ 45   7  62  86   1  87  51  57  36  70]\n",
            " [ 65  28  88   6  74  56  41   6  30  96]\n",
            " [  3  90  19 100  43  17   8  10  92  55]\n",
            " [ 43  36  68  84  10  59  18   3  78  14]]\n",
            "Minimo\n",
            "1\n",
            "Maximo\n",
            "100\n"
          ]
        }
      ]
    },
    {
      "cell_type": "code",
      "source": [
        "# Create a 3x3x3 array with random values\n",
        "tmp2 = np.random.random((3,3,3))\n",
        "print(tmp2)\n",
        "pass"
      ],
      "metadata": {
        "id": "KFy17KsvvSql",
        "colab": {
          "base_uri": "https://localhost:8080/"
        },
        "outputId": "49fd9dab-f498-4540-feff-8d8cf367712c"
      },
      "execution_count": null,
      "outputs": [
        {
          "output_type": "stream",
          "name": "stdout",
          "text": [
            "[[[0.93657998 0.56439572 0.50183434]\n",
            "  [0.00325855 0.0100005  0.17558289]\n",
            "  [0.212742   0.82234794 0.15263721]]\n",
            "\n",
            " [[0.39816912 0.51352046 0.46731767]\n",
            "  [0.81392597 0.71606835 0.10292673]\n",
            "  [0.41203671 0.93740695 0.30411296]]\n",
            "\n",
            " [[0.13151881 0.95586273 0.60634409]\n",
            "  [0.50410542 0.10148732 0.82694752]\n",
            "  [0.04435629 0.99634681 0.42346415]]]\n"
          ]
        }
      ]
    },
    {
      "cell_type": "code",
      "source": [
        "# Replace all odd numbers in arr with -1\n",
        "# your code here\n",
        "tmp = np.random.randint(1, 11, size=(3, 3, 3))\n",
        "print(tmp)\n",
        "print('--------------')\n",
        "tmp[tmp % 2 == 1] = -1\n",
        "print(tmp)\n",
        "pass"
      ],
      "metadata": {
        "id": "X7ol3alqmbNa",
        "colab": {
          "base_uri": "https://localhost:8080/"
        },
        "outputId": "2b2eff96-6ee6-48fe-ca56-056f2cb0625c"
      },
      "execution_count": null,
      "outputs": [
        {
          "output_type": "stream",
          "name": "stdout",
          "text": [
            "[[[ 9  5  5]\n",
            "  [ 7  2  3]\n",
            "  [ 3  8  3]]\n",
            "\n",
            " [[ 2  1  8]\n",
            "  [ 4  3  1]\n",
            "  [10  7  9]]\n",
            "\n",
            " [[ 7  5  6]\n",
            "  [ 9  5  3]\n",
            "  [ 4  8  1]]]\n",
            "--------------\n",
            "[[[-1 -1 -1]\n",
            "  [-1  2 -1]\n",
            "  [-1  8 -1]]\n",
            "\n",
            " [[ 2 -1  8]\n",
            "  [ 4 -1 -1]\n",
            "  [10 -1 -1]]\n",
            "\n",
            " [[-1 -1  6]\n",
            "  [-1 -1 -1]\n",
            "  [ 4  8 -1]]]\n"
          ]
        }
      ]
    },
    {
      "cell_type": "code",
      "source": [
        "# Create an array of type float\n",
        "tmpF = np.random.rand(5)\n",
        "print(tmpF)\n",
        "pass"
      ],
      "metadata": {
        "id": "GwdXYn9HqYTL",
        "colab": {
          "base_uri": "https://localhost:8080/"
        },
        "outputId": "8da29704-0cbd-4726-997d-8c18d25d7344"
      },
      "execution_count": null,
      "outputs": [
        {
          "output_type": "stream",
          "name": "stdout",
          "text": [
            "[0.41322583 0.87265948 0.06739593 0.38827954 0.18417704]\n"
          ]
        }
      ]
    },
    {
      "cell_type": "code",
      "source": [
        "# Convert a 1D array to a 2D array with 2 rows\n",
        "# your code here\n",
        "lista = list(range(12))\n",
        "lista = np.array(lista)\n",
        "dos_d_array = lista.reshape(2, 6)\n",
        "print(dos_d_array)\n",
        "pass"
      ],
      "metadata": {
        "id": "LvcL1lUYoPjN",
        "colab": {
          "base_uri": "https://localhost:8080/"
        },
        "outputId": "c4b899de-700c-4d53-f9ea-2c5a5f93bb82"
      },
      "execution_count": null,
      "outputs": [
        {
          "output_type": "stream",
          "name": "stdout",
          "text": [
            "[[ 0  1  2  3  4  5]\n",
            " [ 6  7  8  9 10 11]]\n"
          ]
        }
      ]
    },
    {
      "cell_type": "code",
      "source": [
        "# How to find common values between two arrays?\n",
        "\n",
        "Z1 = np.random.randint(0,10,10)\n",
        "Z2 = np.random.randint(0,10,10)\n",
        "valoresComunes = np.intersect1d(Z1, Z2)\n",
        "print(Z1)\n",
        "print('---------------------')\n",
        "print(Z2)\n",
        "print('---------------------')\n",
        "print(valoresComunes)\n",
        "\n",
        "pass"
      ],
      "metadata": {
        "id": "VbzMDKQvv0DX",
        "colab": {
          "base_uri": "https://localhost:8080/"
        },
        "outputId": "b17460cb-f64b-48c2-9c63-aac4a9a6712a"
      },
      "execution_count": null,
      "outputs": [
        {
          "output_type": "stream",
          "name": "stdout",
          "text": [
            "[1 4 4 6 0 9 0 7 1 9]\n",
            "---------------------\n",
            "[0 6 5 8 2 6 3 3 8 8]\n",
            "---------------------\n",
            "[0 6]\n"
          ]
        }
      ]
    },
    {
      "cell_type": "code",
      "source": [
        "#  Consider two random array A and B, check if they are equal\n",
        "\n",
        "\n",
        "A = np.random.randint(0,2,5)\n",
        "B = np.random.randint(0,2,5)\n",
        "\n",
        "print('Array A')\n",
        "print(A)\n",
        "print('Array B')\n",
        "print(B)\n",
        "\n",
        "if np.array_equal(A,B):\n",
        "  print('Son iguales')\n",
        "else:\n",
        "  print('Son diferentes')\n",
        "\n",
        "pass"
      ],
      "metadata": {
        "id": "RWWspnDAwWGV",
        "colab": {
          "base_uri": "https://localhost:8080/"
        },
        "outputId": "c2c23305-dc51-4378-bd42-6a5cf8d9dec8"
      },
      "execution_count": null,
      "outputs": [
        {
          "output_type": "stream",
          "name": "stdout",
          "text": [
            "Array A\n",
            "[0 0 1 1 0]\n",
            "Array B\n",
            "[1 0 1 0 1]\n",
            "Son diferentes\n"
          ]
        }
      ]
    },
    {
      "cell_type": "code",
      "source": [
        "# Stack arrays a and b vertically\n",
        "# your code here\n",
        "print('Array A')\n",
        "print(A)\n",
        "print('Array B')\n",
        "print(B)\n",
        "matrizAplicadaVertical = np.vstack((A,B))\n",
        "print(\"Stacked Array:\")\n",
        "print(matrizAplicadaVertical)\n",
        "pass"
      ],
      "metadata": {
        "id": "SW3KvPXhoeie",
        "colab": {
          "base_uri": "https://localhost:8080/"
        },
        "outputId": "0b3eeb04-3142-468d-e9d9-0593f50cffcb"
      },
      "execution_count": null,
      "outputs": [
        {
          "output_type": "stream",
          "name": "stdout",
          "text": [
            "Array A\n",
            "[0 0 1 1 0]\n",
            "Array B\n",
            "[1 0 1 0 1]\n",
            "Stacked Array:\n",
            "[[0 0 1 1 0]\n",
            " [1 0 1 0 1]]\n"
          ]
        }
      ]
    },
    {
      "cell_type": "code",
      "source": [
        "# Stack the arrays a and b horizontally.\n",
        "# your code here\n",
        "print('Array A')\n",
        "print(A)\n",
        "print('Array B')\n",
        "print(B)\n",
        "matrizAplicadaHorizontal = np.hstack((A, B))\n",
        "print(\"Stacked Array:\")\n",
        "print(matrizAplicadaHorizontal)\n",
        "pass"
      ],
      "metadata": {
        "id": "6wVOpIT9omwe",
        "colab": {
          "base_uri": "https://localhost:8080/"
        },
        "outputId": "07c5d351-66fe-4d81-fc4c-e6f4a18dc38e"
      },
      "execution_count": null,
      "outputs": [
        {
          "output_type": "stream",
          "name": "stdout",
          "text": [
            "Array A\n",
            "[0 0 1 1 0]\n",
            "Array B\n",
            "[1 0 1 0 1]\n",
            "Stacked Array:\n",
            "[0 0 1 1 0 1 0 1 0 1]\n"
          ]
        }
      ]
    },
    {
      "cell_type": "code",
      "source": [
        "# Get all items between 5 and 10 from array tmp.\n",
        "# your code here\n",
        "import numpy as np\n",
        "tmp = np.arange(15)\n",
        "print(tmp)\n",
        "print('----------------------------------------------')\n",
        "valores = tmp[(tmp>=5)&(tmp<=10)]\n",
        "print(valores)\n",
        "# pass"
      ],
      "metadata": {
        "id": "L_7vMkGOo0gX",
        "colab": {
          "base_uri": "https://localhost:8080/"
        },
        "outputId": "1cabe460-a65b-4afc-9d9d-56b5e60bef91"
      },
      "execution_count": null,
      "outputs": [
        {
          "output_type": "stream",
          "name": "stdout",
          "text": [
            "[ 0  1  2  3  4  5  6  7  8  9 10 11 12 13 14]\n",
            "----------------------------------------------\n",
            "[ 5  6  7  8  9 10]\n"
          ]
        }
      ]
    },
    {
      "cell_type": "code",
      "source": [
        "# How to make a python function that handles scalars to work on numpy arrays?\n",
        "# Hint\n",
        "# Desired Output:\n",
        "# a = np.array([5, 7, 9, 8, 6, 4, 5])\n",
        "# b = np.array([6, 3, 4, 8, 9, 7, 1])\n",
        "# pair_max(a, b)\n",
        "# #> array([ 6.,  7.,  9.,  8.,  9.,  7.,  5.])\n",
        "\n",
        "\n",
        "# your code here\n",
        "\"\"\"Arrays\"\"\"\n",
        "# a = np.array([5, 7, 9, 8, 6, 4, 5])\n",
        "a = np.random.randint(1, 10, 7)\n",
        "print(\"Array A\")\n",
        "print(a)\n",
        "# b = np.array([6, 3, 4, 8, 9, 7, 1])\n",
        "b = np.random.randint(1, 10, 7)\n",
        "print(\"Array B\")\n",
        "print(B)\n",
        "print('---------------')\n",
        "\n",
        "\"\"\"Metodo 1\"\"\"\n",
        "print(\"Metodo 1\")\n",
        "def parMax(a, b):\n",
        "    \"\"\"Get the element-wise maximum of two arrays\"\"\"\n",
        "    return np.maximum(a, b)\n",
        "\n",
        "c= parMax(a, b)\n",
        "print(c)\n",
        "print('---------------')\n",
        "\n",
        "print(\"Metodo 2\")\n",
        "\"\"\"Metodo 2\"\"\"\n",
        "def maxx(x, y):\n",
        "    \"\"\"Get the maximum of two items\"\"\"\n",
        "    if x >= y:\n",
        "        return x\n",
        "    else:\n",
        "        return y\n",
        "\n",
        "c = np.array([maxx(x, y) for x, y in zip(a, b)])\n",
        "print(c)\n"
      ],
      "metadata": {
        "colab": {
          "base_uri": "https://localhost:8080/"
        },
        "id": "FVZz6ZY0p9ya",
        "outputId": "647e2259-5ef2-4b7f-d1c7-334b4d1b7621"
      },
      "execution_count": null,
      "outputs": [
        {
          "output_type": "stream",
          "name": "stdout",
          "text": [
            "Array A\n",
            "[3 3 4 5 6 7 2]\n",
            "Array B\n",
            "[1 0 1 0 1]\n",
            "---------------\n",
            "Metodo 1\n",
            "[3 3 4 5 6 7 7]\n",
            "---------------\n",
            "Metodo 2\n",
            "[3 3 4 5 6 7 7]\n"
          ]
        }
      ]
    },
    {
      "cell_type": "code",
      "source": [
        "# Swap columns 1 and 2 in the array arr.\n",
        "# Hint\n",
        "# Desired Output:\n",
        "# [[0 2 1]\n",
        "#  [3 5 4]\n",
        "#  [6 8 7]]\n",
        "\n",
        "# your code here\n",
        "arr = np.arange(9).reshape(3,3)\n",
        "print(arr)\n",
        "\n",
        "# Swap columns 1 and 2\n",
        "arr[:, [0, 1]] = arr[:, [1, 0]]\n",
        "print('---------')\n",
        "print(\"Cambio de columnas 1 y 2\")\n",
        "print(arr)\n",
        "pass\n"
      ],
      "metadata": {
        "colab": {
          "base_uri": "https://localhost:8080/"
        },
        "outputId": "ddae5d31-6748-49b5-d02b-d73d140226ee",
        "id": "8vIzM5e8ql6i"
      },
      "execution_count": null,
      "outputs": [
        {
          "output_type": "stream",
          "name": "stdout",
          "text": [
            "[[0 1 2]\n",
            " [3 4 5]\n",
            " [6 7 8]]\n",
            "---------\n",
            "Cambio de columnas 1 y 2\n",
            "[[1 0 2]\n",
            " [4 3 5]\n",
            " [7 6 8]]\n"
          ]
        }
      ]
    },
    {
      "cell_type": "code",
      "source": [
        "# Create a 2D array of shape 5x3 to contain random decimal numbers between 5 and 10.\n",
        "# Hint\n",
        "# The desired Output should be like the following one:\n",
        "#  [[ 8.50061025  9.10531502  6.85867783]\n",
        "#   [ 9.76262069  9.87717411  7.13466701]\n",
        "#   [ 7.48966403  8.33409158  6.16808631]\n",
        "#   [ 7.75010551  9.94535696  5.27373226]\n",
        "#   [ 8.0850361   5.56165518  7.31244004]]\n",
        "\n",
        "random_array = np.random.uniform(5, 10, size=(5, 3))\n",
        "print(random_array)"
      ],
      "metadata": {
        "id": "FOXX5b17rY7E",
        "colab": {
          "base_uri": "https://localhost:8080/"
        },
        "outputId": "10e1af30-2fbc-44a8-ef99-4f95934e1d66"
      },
      "execution_count": null,
      "outputs": [
        {
          "output_type": "stream",
          "name": "stdout",
          "text": [
            "[[5.73039225 7.08038186 5.14444546]\n",
            " [5.72643451 5.48005089 9.49240523]\n",
            " [7.60236611 7.4483306  8.87130347]\n",
            " [8.54669065 8.19303979 8.85151783]\n",
            " [8.11965015 6.25347203 9.48456015]]\n"
          ]
        }
      ]
    }
  ]
}