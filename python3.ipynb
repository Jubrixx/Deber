{
  "nbformat": 4,
  "nbformat_minor": 0,
  "metadata": {
    "colab": {
      "provenance": [],
      "authorship_tag": "ABX9TyM02Wp9P8gM+hrSorqqbo2g",
      "include_colab_link": true
    },
    "kernelspec": {
      "name": "python3",
      "display_name": "Python 3"
    },
    "language_info": {
      "name": "python"
    }
  },
  "cells": [
    {
      "cell_type": "markdown",
      "metadata": {
        "id": "view-in-github",
        "colab_type": "text"
      },
      "source": [
        "<a href=\"https://colab.research.google.com/github/Jubrixx/Deber/blob/main/python3.ipynb\" target=\"_parent\"><img src=\"https://colab.research.google.com/assets/colab-badge.svg\" alt=\"Open In Colab\"/></a>"
      ]
    },
    {
      "cell_type": "code",
      "execution_count": 1,
      "metadata": {
        "colab": {
          "base_uri": "https://localhost:8080/"
        },
        "id": "2Ti7GjepQGOm",
        "outputId": "88526f22-ec27-4a95-bd18-4f92ab9bd5e8"
      },
      "outputs": [
        {
          "output_type": "stream",
          "name": "stdout",
          "text": [
            "Python 3.10.12\n"
          ]
        }
      ],
      "source": [
        "!python --version"
      ]
    },
    {
      "cell_type": "code",
      "source": [
        "variable1=10\n",
        "variable2=2.2\n",
        "variable3='Parangaricutirimicuaro'\n",
        "print(type(variable1))\n",
        "print(type(variable2))\n",
        "print(type(variable3))\n",
        "\n",
        "\n",
        "print(variable1+variable2)\n",
        "print(variable1-variable2)\n",
        "print(variable1*variable2)\n",
        "print(variable1/variable2)\n",
        "\n",
        "v1=True\n",
        "v2=False\n",
        ""
      ],
      "metadata": {
        "colab": {
          "base_uri": "https://localhost:8080/"
        },
        "id": "LU67VbYUQMdw",
        "outputId": "17629adb-ab85-4cbc-9a03-31bce235212c"
      },
      "execution_count": 2,
      "outputs": [
        {
          "output_type": "stream",
          "name": "stdout",
          "text": [
            "<class 'int'>\n",
            "<class 'float'>\n",
            "<class 'str'>\n",
            "12.2\n",
            "7.8\n",
            "22.0\n",
            "4.545454545454545\n"
          ]
        }
      ]
    },
    {
      "cell_type": "code",
      "source": [
        "algunaLista=list()\n",
        "algunaLista=['borrador','cuaderno','goma','lápiz','mochila','esferos','lapices de colores',True]\n",
        "print(algunaLista[2])\n",
        "print(algunaLista[7])\n",
        "print(len(algunaLista))\n",
        "print('--------------------')\n",
        "\n",
        "print(algunaLista[0:4])"
      ],
      "metadata": {
        "colab": {
          "base_uri": "https://localhost:8080/"
        },
        "id": "tdm_0jKLQULB",
        "outputId": "c20869e1-d6f8-4a22-e57a-7aff4e654df2"
      },
      "execution_count": 3,
      "outputs": [
        {
          "output_type": "stream",
          "name": "stdout",
          "text": [
            "goma\n",
            "True\n",
            "8\n",
            "--------------------\n",
            "['borrador', 'cuaderno', 'goma', 'lápiz']\n"
          ]
        }
      ]
    },
    {
      "cell_type": "code",
      "source": [
        "d={'name':'lUIS','age':25,'city':'El Carmen'}\n",
        "\n",
        "\n",
        "for key in d:\n",
        "  print(d[key])"
      ],
      "metadata": {
        "colab": {
          "base_uri": "https://localhost:8080/"
        },
        "id": "XGbMa5NVQZ8x",
        "outputId": "8eb56afd-60c9-476a-852a-b5da291cc0c6"
      },
      "execution_count": 4,
      "outputs": [
        {
          "output_type": "stream",
          "name": "stdout",
          "text": [
            "lUIS\n",
            "25\n",
            "El Carmen\n"
          ]
        }
      ]
    }
  ]
}