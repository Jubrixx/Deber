{
  "nbformat": 4,
  "nbformat_minor": 0,
  "metadata": {
    "colab": {
      "provenance": [],
      "authorship_tag": "ABX9TyOzUwAJrRxktieXpmuN2WSI",
      "include_colab_link": true
    },
    "kernelspec": {
      "name": "python3",
      "display_name": "Python 3"
    },
    "language_info": {
      "name": "python"
    }
  },
  "cells": [
    {
      "cell_type": "markdown",
      "metadata": {
        "id": "view-in-github",
        "colab_type": "text"
      },
      "source": [
        "<a href=\"https://colab.research.google.com/github/Jubrixx/Deber/blob/main/ActividadIA_con_Numpy3.ipynb\" target=\"_parent\"><img src=\"https://colab.research.google.com/assets/colab-badge.svg\" alt=\"Open In Colab\"/></a>"
      ]
    },
    {
      "cell_type": "code",
      "execution_count": null,
      "metadata": {
        "colab": {
          "base_uri": "https://localhost:8080/"
        },
        "id": "oVGAuyFqIFQy",
        "outputId": "d05faef8-0d73-4151-93c4-85303b191da4"
      },
      "outputs": [
        {
          "output_type": "stream",
          "name": "stdout",
          "text": [
            "[1 2 4 5]\n",
            "(4,)\n",
            "(2, 4)\n",
            "[[1 2 3 4]\n",
            " [1 2 3 4]]\n",
            "<class 'numpy.ndarray'>\n",
            "---------------------------\n",
            "[[0. 0. 0. 0.]\n",
            " [0. 0. 0. 0.]\n",
            " [0. 0. 0. 0.]\n",
            " [0. 0. 0. 0.]]\n",
            "---------------------------\n",
            "[[5 5 5 5]\n",
            " [5 5 5 5]\n",
            " [5 5 5 5]\n",
            " [5 5 5 5]]\n",
            "---------------------------\n",
            "[[1. 0. 0. 0.]\n",
            " [0. 1. 0. 0.]\n",
            " [0. 0. 1. 0.]\n",
            " [0. 0. 0. 1.]]\n",
            "---------------------------\n",
            "[[1. 1. 1. 1.]\n",
            " [1. 1. 1. 1.]\n",
            " [1. 1. 1. 1.]\n",
            " [1. 1. 1. 1.]]\n"
          ]
        }
      ],
      "source": [
        "import numpy as numpy\n",
        "\n",
        "aux = numpy.array([1,2,4,5])\n",
        "print(aux)\n",
        "print(aux.shape)\n",
        "\n",
        "\n",
        "aux=numpy.array([[1,2,3,4],[1,2,3,4]])\n",
        "print(aux.shape)\n",
        "print(aux)\n",
        "print(type(aux))\n",
        "\n",
        "\n",
        "print('---------------------------')\n",
        "tmp=numpy.zeros([4,4])\n",
        "print(tmp)\n",
        "\n",
        "\n",
        "print('---------------------------')\n",
        "tmp=numpy.full([4,4],5)\n",
        "print(tmp)\n",
        "\n",
        "\n",
        "print('---------------------------')\n",
        "tmp=numpy.eye(4,4)\n",
        "print(tmp)\n",
        "\n",
        "\n",
        "print('---------------------------')\n",
        "tmp=numpy.ones([4,4])\n",
        "print(tmp)"
      ]
    },
    {
      "cell_type": "code",
      "source": [
        "import numpy as np\n",
        "\n",
        "tmp=10*np.random.random([3,3])\n",
        "print(tmp)"
      ],
      "metadata": {
        "colab": {
          "base_uri": "https://localhost:8080/"
        },
        "id": "X9JEajQdRqyO",
        "outputId": "966c5660-3b3a-4eb0-c7b2-8fd8e834234d"
      },
      "execution_count": null,
      "outputs": [
        {
          "output_type": "stream",
          "name": "stdout",
          "text": [
            "[[0.82116111 6.78207588 4.01557982]\n",
            " [4.63595929 3.45477089 4.08748764]\n",
            " [0.56561939 2.89018958 7.29465389]]\n"
          ]
        }
      ]
    },
    {
      "cell_type": "code",
      "source": [
        "print(tmp[:2,:2])"
      ],
      "metadata": {
        "colab": {
          "base_uri": "https://localhost:8080/"
        },
        "id": "eOD0Wz18SbEf",
        "outputId": "7598c9a2-796b-438c-e29a-fbde141d9c0a"
      },
      "execution_count": null,
      "outputs": [
        {
          "output_type": "stream",
          "name": "stdout",
          "text": [
            "[[0.82116111 6.78207588]\n",
            " [4.63595929 3.45477089]]\n"
          ]
        }
      ]
    },
    {
      "cell_type": "code",
      "source": [
        "print(tmp[:2,1:3])"
      ],
      "metadata": {
        "colab": {
          "base_uri": "https://localhost:8080/"
        },
        "id": "IDpgnBG-TEYE",
        "outputId": "bced1c1f-0c82-4c05-95f2-66faaa5a6e04"
      },
      "execution_count": null,
      "outputs": [
        {
          "output_type": "stream",
          "name": "stdout",
          "text": [
            "[[6.78207588 4.01557982]\n",
            " [3.45477089 4.08748764]]\n"
          ]
        }
      ]
    },
    {
      "cell_type": "code",
      "source": [
        "print(tmp[:1,:1])"
      ],
      "metadata": {
        "colab": {
          "base_uri": "https://localhost:8080/"
        },
        "id": "0TfH77Y5TXyE",
        "outputId": "65bb8972-ab8e-427b-d5f1-036b58daf2fc"
      },
      "execution_count": null,
      "outputs": [
        {
          "output_type": "stream",
          "name": "stdout",
          "text": [
            "[[0.82116111]]\n"
          ]
        }
      ]
    },
    {
      "cell_type": "code",
      "source": [
        "print(tmp[2,2])"
      ],
      "metadata": {
        "colab": {
          "base_uri": "https://localhost:8080/"
        },
        "id": "9xAL5OTNT2vv",
        "outputId": "faedb6f6-77e4-4fea-a207-055a120763e7"
      },
      "execution_count": null,
      "outputs": [
        {
          "output_type": "stream",
          "name": "stdout",
          "text": [
            "7.294653892517374\n"
          ]
        }
      ]
    },
    {
      "cell_type": "code",
      "source": [
        "tmp=10*np.random.random([3,3])\n",
        "print(tmp)"
      ],
      "metadata": {
        "colab": {
          "base_uri": "https://localhost:8080/"
        },
        "id": "mhZRP8YWUH5k",
        "outputId": "913fc6f3-7067-486c-9f16-f53c313db6dd"
      },
      "execution_count": null,
      "outputs": [
        {
          "output_type": "stream",
          "name": "stdout",
          "text": [
            "[[5.21342103 8.56907865 3.63011997]\n",
            " [3.52672406 9.88918676 9.10697429]\n",
            " [9.05966214 5.99881003 0.93889041]]\n"
          ]
        }
      ]
    },
    {
      "cell_type": "code",
      "source": [
        "mask=tmp>5\n",
        "print(tmp[mask])"
      ],
      "metadata": {
        "colab": {
          "base_uri": "https://localhost:8080/"
        },
        "id": "hT3N9bkJUSWt",
        "outputId": "c4809837-f344-40f4-9204-a2ba5dd843ea"
      },
      "execution_count": null,
      "outputs": [
        {
          "output_type": "stream",
          "name": "stdout",
          "text": [
            "[5.21342103 8.56907865 9.88918676 9.10697429 9.05966214 5.99881003]\n"
          ]
        }
      ]
    },
    {
      "cell_type": "code",
      "source": [
        "nrosEnteros = np.random.randint(0, 10, size=(4, 4))\n",
        "print(nrosEnteros)\n",
        "\n",
        "\n",
        "print('---------------------------')\n",
        "nrosEnteros = nrosEnteros[nrosEnteros % 2 == 0]\n",
        "print(nrosEnteros)\n"
      ],
      "metadata": {
        "colab": {
          "base_uri": "https://localhost:8080/"
        },
        "id": "zy4Po17AUxfk",
        "outputId": "fd0028bc-2d8e-478e-e4ae-7a15077434bd"
      },
      "execution_count": null,
      "outputs": [
        {
          "output_type": "stream",
          "name": "stdout",
          "text": [
            "[[8 4 6 8]\n",
            " [4 8 1 6]\n",
            " [0 7 1 5]\n",
            " [1 3 7 7]]\n",
            "---------------------------\n",
            "[8 4 6 8 4 8 6 0]\n"
          ]
        }
      ]
    }
  ]
}