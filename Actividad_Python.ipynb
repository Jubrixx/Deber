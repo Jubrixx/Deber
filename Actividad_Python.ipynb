{
  "nbformat": 4,
  "nbformat_minor": 0,
  "metadata": {
    "colab": {
      "provenance": [],
      "authorship_tag": "ABX9TyOzBztBD/wvLBIqSjAWqIjg",
      "include_colab_link": true
    },
    "kernelspec": {
      "name": "python3",
      "display_name": "Python 3"
    },
    "language_info": {
      "name": "python"
    }
  },
  "cells": [
    {
      "cell_type": "markdown",
      "metadata": {
        "id": "view-in-github",
        "colab_type": "text"
      },
      "source": [
        "<a href=\"https://colab.research.google.com/github/Jubrixx/Deber/blob/main/Actividad_Python.ipynb\" target=\"_parent\"><img src=\"https://colab.research.google.com/assets/colab-badge.svg\" alt=\"Open In Colab\"/></a>"
      ]
    },
    {
      "cell_type": "code",
      "execution_count": null,
      "metadata": {
        "colab": {
          "base_uri": "https://localhost:8080/"
        },
        "id": "3t8LDNjiRkfC",
        "outputId": "9fa16f16-329e-45da-8b25-9825c93dba84"
      },
      "outputs": [
        {
          "output_type": "stream",
          "name": "stdout",
          "text": [
            "Python 3.10.12 (main, Jun 11 2023, 05:26:28) [GCC 11.4.0] on linux\n",
            "Type \"help\", \"copyright\", \"credits\" or \"license\" for more information.\n",
            ">>> \n",
            "\n",
            "KeyboardInterrupt\n",
            ">>> ^C\n"
          ]
        }
      ],
      "source": [
        "!python"
      ]
    },
    {
      "cell_type": "code",
      "source": [],
      "metadata": {
        "id": "wA3fhvIYOYPl"
      },
      "execution_count": null,
      "outputs": []
    },
    {
      "cell_type": "code",
      "source": [
        "myVariable_1=4\n",
        "myVariable_2=6\n",
        "print(myVariable_1+myVariable_2)\n",
        "print(myVariable_1-myVariable_2)\n",
        "print(myVariable_1/myVariable_2)\n",
        "print(myVariable_1*myVariable_2)"
      ],
      "metadata": {
        "colab": {
          "base_uri": "https://localhost:8080/"
        },
        "id": "bLlMvvEKR6wP",
        "outputId": "ac1c9804-dd7a-4d1c-f71d-dbca6b70d5e7"
      },
      "execution_count": null,
      "outputs": [
        {
          "output_type": "stream",
          "name": "stdout",
          "text": [
            "10\n",
            "-2\n",
            "0.6666666666666666\n",
            "24\n"
          ]
        }
      ]
    },
    {
      "cell_type": "code",
      "source": [
        "aux_1=True\n",
        "aux_2=False\n",
        "print(aux_1 and aux_2)\n",
        "print(aux_1 or aux_2)\n",
        "print(not aux_2)"
      ],
      "metadata": {
        "colab": {
          "base_uri": "https://localhost:8080/"
        },
        "id": "FQMbzpSkTJOv",
        "outputId": "d7646904-c70c-4af2-8f0f-20cf76597d7b"
      },
      "execution_count": null,
      "outputs": [
        {
          "output_type": "stream",
          "name": "stdout",
          "text": [
            "False\n",
            "True\n",
            "True\n"
          ]
        }
      ]
    },
    {
      "cell_type": "code",
      "source": [
        "myName='Bryan Zambrano'\n",
        "print (myName)"
      ],
      "metadata": {
        "colab": {
          "base_uri": "https://localhost:8080/"
        },
        "id": "98YOHXAJTvlP",
        "outputId": "622e92d4-5dbc-45e8-86e6-3ea461d52c64"
      },
      "execution_count": null,
      "outputs": [
        {
          "output_type": "stream",
          "name": "stdout",
          "text": [
            "Bryan Zambrano\n"
          ]
        }
      ]
    },
    {
      "cell_type": "code",
      "source": [
        "listaescolar=['notebook','pen','eraser','pencil']\n",
        "print(listaescolar)\n",
        "\n",
        "listaescolar.append('computer')\n",
        "print(listaescolar)\n",
        "\n",
        "#print(listaescolar[3])\n",
        "\n",
        "#listaescolar.pop(3)\n",
        "del listaescolar[3]\n",
        "\n",
        "print(listaescolar)"
      ],
      "metadata": {
        "colab": {
          "base_uri": "https://localhost:8080/"
        },
        "id": "2dw6f2GVVGyA",
        "outputId": "14c9fa80-95e6-425a-ea74-37b20b3828a7"
      },
      "execution_count": null,
      "outputs": [
        {
          "output_type": "stream",
          "name": "stdout",
          "text": [
            "['notebook', 'pen', 'eraser', 'pencil']\n",
            "['notebook', 'pen', 'eraser', 'pencil', 'computer']\n",
            "['notebook', 'pen', 'eraser', 'computer']\n"
          ]
        }
      ]
    },
    {
      "cell_type": "code",
      "source": [
        "mylist=list(range(15))\n",
        "print(mylist)\n",
        "print(mylist[5:11])\n",
        "print(mylist[-1])"
      ],
      "metadata": {
        "colab": {
          "base_uri": "https://localhost:8080/"
        },
        "id": "12w-BntkY0Ie",
        "outputId": "6480d204-9c1a-4f89-b969-7e7a93224c7f"
      },
      "execution_count": null,
      "outputs": [
        {
          "output_type": "stream",
          "name": "stdout",
          "text": [
            "[0, 1, 2, 3, 4, 5, 6, 7, 8, 9, 10, 11, 12, 13, 14]\n",
            "[5, 6, 7, 8, 9, 10]\n",
            "14\n"
          ]
        }
      ]
    }
  ]
}