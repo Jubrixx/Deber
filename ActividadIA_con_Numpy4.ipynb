{
  "nbformat": 4,
  "nbformat_minor": 0,
  "metadata": {
    "colab": {
      "provenance": [],
      "authorship_tag": "ABX9TyOTLaoilG5KahzwFGATChrD",
      "include_colab_link": true
    },
    "kernelspec": {
      "name": "python3",
      "display_name": "Python 3"
    },
    "language_info": {
      "name": "python"
    }
  },
  "cells": [
    {
      "cell_type": "markdown",
      "metadata": {
        "id": "view-in-github",
        "colab_type": "text"
      },
      "source": [
        "<a href=\"https://colab.research.google.com/github/Jubrixx/Deber/blob/main/ActividadIA_con_Numpy4.ipynb\" target=\"_parent\"><img src=\"https://colab.research.google.com/assets/colab-badge.svg\" alt=\"Open In Colab\"/></a>"
      ]
    },
    {
      "cell_type": "code",
      "execution_count": null,
      "metadata": {
        "colab": {
          "base_uri": "https://localhost:8080/"
        },
        "id": "vwoAJuzC54Vk",
        "outputId": "af03a80e-0c04-42fa-cfa0-a9f2c09170e7"
      },
      "outputs": [
        {
          "output_type": "stream",
          "name": "stdout",
          "text": [
            "[[ 1  6  1  9]\n",
            " [10  9  7  5]\n",
            " [10  9 10  3]]\n",
            "(3, 4)\n",
            " \n",
            "---------------------------\n",
            " \n",
            "[[ 8  7  8  7]\n",
            " [ 1 10  9 10]\n",
            " [ 9  1 10  7]]\n",
            "(3, 4)\n",
            " \n",
            "---------------------------\n",
            " \n",
            "Suma de Matrices\n",
            "[[ 9 13  9 16]\n",
            " [11 19 16 15]\n",
            " [19 10 20 10]]\n",
            " \n",
            "---------------------------\n",
            " \n",
            "Resta de Matrices\n",
            "[[-7 -1 -7  2]\n",
            " [ 9 -1 -2 -5]\n",
            " [ 1  8  0 -4]]\n",
            " \n",
            "---------------------------\n",
            " \n",
            "Multiplicacion de Matrices\n",
            "[[  8  42   8  63]\n",
            " [ 10  90  63  50]\n",
            " [ 90   9 100  21]]\n",
            " \n",
            "---------------------------\n",
            " \n",
            "Matriz\n",
            "[[ 9 13  9 16]\n",
            " [11 19 16 15]\n",
            " [19 10 20 10]]\n",
            " \n",
            "---------------------------\n",
            " \n",
            "Multiplicacion de Matriz\n",
            "[[  8  42   8  63]\n",
            " [ 10  90  63  50]\n",
            " [ 90   9 100  21]]\n",
            " \n",
            "---------------------------\n",
            " \n",
            "Division de Matriz\n",
            "[[ 0.125       0.85714286  0.125       1.28571429]\n",
            " [10.          0.9         0.77777778  0.5       ]\n",
            " [ 1.11111111  9.          1.          0.42857143]]\n"
          ]
        }
      ],
      "source": [
        "import numpy as np\n",
        "\n",
        "A = np.random.randint(1, 11, size=(3, 4))\n",
        "print(A)\n",
        "print(A.shape)\n",
        "\n",
        "print(' ')\n",
        "print('---------------------------')\n",
        "print(' ')\n",
        "\n",
        "B = np.random.randint(1, 11, size=(3, 4))\n",
        "print(B)\n",
        "print(B.shape)\n",
        "\n",
        "print(' ')\n",
        "print('---------------------------')\n",
        "print(' ')\n",
        "\n",
        "print('Suma de Matrices')\n",
        "print(A+B)\n",
        "\n",
        "print(' ')\n",
        "print('---------------------------')\n",
        "print(' ')\n",
        "\n",
        "print('Resta de Matrices')\n",
        "print(A-B)\n",
        "\n",
        "print(' ')\n",
        "print('---------------------------')\n",
        "print(' ')\n",
        "\n",
        "print('Multiplicacion de Matrices')\n",
        "print(A*B)\n",
        "\n",
        "print(' ')\n",
        "print('---------------------------')\n",
        "print(' ')\n",
        "\n",
        "print('Matriz')\n",
        "print(np.add(A,B))\n",
        "\n",
        "print(' ')\n",
        "print('---------------------------')\n",
        "print(' ')\n",
        "\n",
        "print('Multiplicacion de Matriz')\n",
        "print(np.multiply(A,B))\n",
        "\n",
        "print(' ')\n",
        "print('---------------------------')\n",
        "print(' ')\n",
        "\n",
        "print('Division de Matriz')\n",
        "print(np.divide(A,B))"
      ]
    },
    {
      "cell_type": "code",
      "source": [
        "print('Matriz A')\n",
        "A = np.random.randint(1, 11, size=(2, 3))\n",
        "print(A)\n",
        "\n",
        "print(' ')\n",
        "print('---------------------------')\n",
        "print(' ')\n",
        "\n",
        "print('Matriz B')\n",
        "B = np.random.randint(1, 11, size=(3, 4))\n",
        "print(B)\n",
        "\n",
        "print(' ')\n",
        "print('---------------------------')\n",
        "print(' ')\n",
        "\n",
        "print('Multiplicacion de Matrices Respetando la Regla')\n",
        "print(np.dot(A,B))\n",
        "print('---------------------------')\n",
        "print(A.dot(B))"
      ],
      "metadata": {
        "colab": {
          "base_uri": "https://localhost:8080/"
        },
        "id": "XeqQj7Fx9h-k",
        "outputId": "7a852e91-1026-47b2-ac9c-00e5fceb96ea"
      },
      "execution_count": null,
      "outputs": [
        {
          "output_type": "stream",
          "name": "stdout",
          "text": [
            "Matriz A\n",
            "[[9 4 3]\n",
            " [1 9 9]]\n",
            " \n",
            "---------------------------\n",
            " \n",
            "Matriz B\n",
            "[[10  6  4  6]\n",
            " [ 2  3  4  9]\n",
            " [ 9 10  8 10]]\n",
            " \n",
            "---------------------------\n",
            " \n",
            "Multiplicacion de Matrices Respetando la Regla\n",
            "[[125  96  76 120]\n",
            " [109 123 112 177]]\n",
            "---------------------------\n",
            "[[125  96  76 120]\n",
            " [109 123 112 177]]\n"
          ]
        }
      ]
    },
    {
      "cell_type": "code",
      "source": [
        "print('Matriz A')\n",
        "A = np.random.randint(1, 11, size=(2, 2))\n",
        "print(A)\n",
        "\n",
        "print(' ')\n",
        "print('---------------------------')\n",
        "print(' ')\n",
        "\n",
        "print('Matriz Transpuesta de A')\n",
        "print(A.T)\n"
      ],
      "metadata": {
        "colab": {
          "base_uri": "https://localhost:8080/"
        },
        "id": "r55ZYq_U_H4s",
        "outputId": "d61fcc24-e4ba-4c13-a1b0-b797e103ee2b"
      },
      "execution_count": null,
      "outputs": [
        {
          "output_type": "stream",
          "name": "stdout",
          "text": [
            "Matriz A\n",
            "[[7 9]\n",
            " [1 4]]\n",
            " \n",
            "---------------------------\n",
            " \n",
            "Matriz Transpuesta\n",
            "[[7 1]\n",
            " [9 4]]\n",
            " \n",
            "---------------------------\n",
            " \n"
          ]
        }
      ]
    },
    {
      "cell_type": "code",
      "source": [
        "print('Matriz A')\n",
        "A = np.random.randint(1, 11, size=(4, 3))\n",
        "print(A)\n",
        "\n",
        "print(' ')\n",
        "print('---------------------------')\n",
        "print(' ')\n",
        "\n",
        "print('Matriz B')\n",
        "B= np.array([1,0,2])\n",
        "print(B)\n",
        "\n",
        "print(' ')\n",
        "print('---------------------------')\n",
        "print(' ')\n",
        "\n",
        "print('Matriz C')\n",
        "C= np.empty_like(A)\n",
        "print(C)\n",
        "\n",
        "print(' ')\n",
        "print('---------------------------')\n",
        "print(' ')\n",
        "\n",
        "print('Suma de Matriz A + B')\n",
        "r = (A+B)\n",
        "print(r)\n",
        "\n",
        "print(' ')\n",
        "print('---------------------------')\n",
        "print(' ')\n",
        "\n",
        "print('Suma de Matriz C + R(A+B)')\n",
        "print(r+C)\n"
      ],
      "metadata": {
        "colab": {
          "base_uri": "https://localhost:8080/"
        },
        "id": "oGlVThSW_89t",
        "outputId": "3df6c073-8115-455c-ec7a-82d113da0be6"
      },
      "execution_count": null,
      "outputs": [
        {
          "output_type": "stream",
          "name": "stdout",
          "text": [
            "Matriz A\n",
            "[[10  2  6]\n",
            " [ 4  6  9]\n",
            " [ 2  2  4]\n",
            " [ 6  6  7]]\n",
            " \n",
            "---------------------------\n",
            " \n",
            "Matriz B\n",
            "[1 0 2]\n",
            " \n",
            "---------------------------\n",
            " \n",
            "Matriz C\n",
            "[[4 9 3]\n",
            " [5 5 2]\n",
            " [9 3 7]\n",
            " [9 5 8]]\n",
            " \n",
            "---------------------------\n",
            " \n",
            "Suma de Matriz A + B\n",
            "[[11  2  8]\n",
            " [ 5  6 11]\n",
            " [ 3  2  6]\n",
            " [ 7  6  9]]\n",
            " \n",
            "---------------------------\n",
            " \n",
            "Suma de Matriz C + R(A+B)\n",
            "[[15 11 11]\n",
            " [10 11 13]\n",
            " [12  5 13]\n",
            " [16 11 17]]\n"
          ]
        }
      ]
    },
    {
      "cell_type": "code",
      "source": [
        "print('Matriz A')\n",
        "A = np.array([1,2,3])\n",
        "\n",
        "print(A)\n",
        "\n",
        "print(' ')\n",
        "print('---------------------------')\n",
        "print(' ')\n",
        "\n",
        "print('Matriz B')\n",
        "B = np.array([1,2,3])\n",
        "matriz = np.tile(B, (6, 1))\n",
        "print(matriz)\n",
        "\n",
        "print(' ')\n",
        "print('---------------------------')\n",
        "print(' ')\n",
        "\n",
        "print('Matriz C')\n",
        "C = np.random.randint(0, 11, size=(6, 6))\n",
        "print(C)\n",
        "promedio = np.mean(C)\n",
        "print(' ')\n",
        "print('Promedio')\n",
        "print(promedio)\n",
        "\n",
        "print(' ')\n",
        "print('---------------------------')\n",
        "print(' ')\n",
        "\n",
        "promedio1 = np.mean(C, axis=1)\n",
        "print(' ')\n",
        "print('Promedio por filas')\n",
        "print(promedio1)\n",
        "\n",
        "print(' ')\n",
        "print('---------------------------')\n",
        "print(' ')\n",
        "\n",
        "promedio2 = np.mean(C, axis=0)\n",
        "print(' ')\n",
        "print('Promedio por columnas')\n",
        "print(promedio2)"
      ],
      "metadata": {
        "colab": {
          "base_uri": "https://localhost:8080/"
        },
        "id": "HAVbAV9wCK80",
        "outputId": "cd254967-d2fb-4c29-8403-84485b8ea399"
      },
      "execution_count": null,
      "outputs": [
        {
          "output_type": "stream",
          "name": "stdout",
          "text": [
            "Matriz A\n",
            "[1 2 3]\n",
            " \n",
            "---------------------------\n",
            " \n",
            "Matriz B\n",
            "[[1 2 3]\n",
            " [1 2 3]\n",
            " [1 2 3]\n",
            " [1 2 3]\n",
            " [1 2 3]\n",
            " [1 2 3]]\n",
            " \n",
            "---------------------------\n",
            " \n",
            "Matriz C\n",
            "[[ 6  3  1  7  7  4]\n",
            " [ 3  1  3  3  2  7]\n",
            " [ 3  7  5 10  5  4]\n",
            " [ 9  4  1  6  0  8]\n",
            " [ 4  0  8 10  4 10]\n",
            " [ 0  5  6  3  2  3]]\n",
            " \n",
            "Promedio\n",
            "4.555555555555555\n",
            " \n",
            "---------------------------\n",
            " \n",
            " \n",
            "Promedio por filas\n",
            "[4.66666667 3.16666667 5.66666667 4.66666667 6.         3.16666667]\n",
            " \n",
            "---------------------------\n",
            " \n",
            " \n",
            "Promedio por columnas\n",
            "[4.16666667 3.33333333 4.         6.5        3.33333333 6.        ]\n"
          ]
        }
      ]
    },
    {
      "cell_type": "code",
      "source": [],
      "metadata": {
        "id": "754aMbgUHI2O"
      },
      "execution_count": null,
      "outputs": []
    }
  ]
}